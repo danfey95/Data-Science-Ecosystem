{
 "cells": [
  {
   "cell_type": "markdown",
   "id": "11d18167-9388-41ca-b9e3-c19651664d91",
   "metadata": {},
   "source": [
    "# Data Science Tools and Ecosystem\n"
   ]
  },
  {
   "cell_type": "markdown",
   "id": "f34ff8f7-7dfa-444f-81d2-e3e834802e6d",
   "metadata": {},
   "source": [
    "**In this notebook, Data Science Tools and Ecosystem are summarized.**\n",
    "\n",
    "\n"
   ]
  },
  {
   "cell_type": "markdown",
   "id": "b0e33d0e-9fd4-4325-a1d4-c57db9b01229",
   "metadata": {},
   "source": [
    "**Objectives:** "
   ]
  },
  {
   "attachments": {},
   "cell_type": "markdown",
   "id": "38cf4d5f-5101-4f95-9420-9e86cb97152a",
   "metadata": {},
   "source": [
    "* Languages that Data Scientist use.\n",
    "* Common libraries used by Data Scientist. \n",
    "* Some of the popular language that Data Scientist use are.\n",
    "* Arithmetic expression used in Python.\n",
    "* Tools used by Data Scientist."
   ]
  },
  {
   "cell_type": "markdown",
   "id": "c58d6446-0c05-4251-857b-dbb63dd1c836",
   "metadata": {},
   "source": [
    "**Popular languages used by Data Scientist.**"
   ]
  },
  {
   "cell_type": "markdown",
   "id": "e232a8ec-69fa-4c01-85ee-46825e65a257",
   "metadata": {},
   "source": [
    "1. Python\n",
    "2. R\n",
    "3. SQL\n",
    "4. Java"
   ]
  },
  {
   "cell_type": "markdown",
   "id": "2775d113-1b7d-4abe-8854-c2a855d5a88e",
   "metadata": {},
   "source": [
    "**Some of the commonly used libraries used by Data Scientists include.**"
   ]
  },
  {
   "cell_type": "markdown",
   "id": "6a0fd23a-7bb3-4718-97ac-5efbe0e3e307",
   "metadata": {},
   "source": [
    "1. TensorFlow\n",
    "2. Pandas\n",
    "3. Scikit-learn\n",
    "4. Apache Spark\n",
    "5. Matpotlib\n"
   ]
  },
  {
   "cell_type": "markdown",
   "id": "e2b40641-eee7-434e-95e2-bc2b9561980c",
   "metadata": {},
   "source": [
    "**Three development environment open source tools used in Data Science.**"
   ]
  },
  {
   "cell_type": "markdown",
   "id": "aa559336-74e2-457b-bf0e-f548044dd155",
   "metadata": {},
   "source": [
    "| Data Science tools |\n",
    "| ------------------- |\n",
    "| Jupyter Notebook |\n",
    "| RStudio |\n",
    "| Visual Studio |"
   ]
  },
  {
   "cell_type": "markdown",
   "id": "0576c134-6789-4a1c-901d-2496080cb9a4",
   "metadata": {},
   "source": [
    "### Below are a few examples of arithmetic expressions in Python"
   ]
  },
  {
   "cell_type": "markdown",
   "id": "72bb1933-adb9-4904-a88d-b2281adc50b2",
   "metadata": {},
   "source": [
    "* Addition ( + ): Adds two values together.\n",
    "* Subtraction ( - ): Subtracts the second value from the first.\n",
    "* Multiplication ( * ): multiplies two values.\n",
    "* Division ( / ): Divide the first value from the second.\n",
    "* Exponentiation ( ** ): Raises the first value to the power of the second.\n"
   ]
  },
  {
   "cell_type": "code",
   "execution_count": 44,
   "id": "72ec5021-08fe-450d-80fe-9872ddcfee34",
   "metadata": {},
   "outputs": [
    {
     "data": {
      "text/plain": [
       "17"
      ]
     },
     "execution_count": 44,
     "metadata": {},
     "output_type": "execute_result"
    }
   ],
   "source": [
    "( 3 * 4 ) + 5\n",
    "# This is a simple arithmetic expression to multiply then add integers"
   ]
  },
  {
   "cell_type": "code",
   "execution_count": null,
   "id": "45f7f72a-a1f3-4145-9534-9924c2f54e76",
   "metadata": {},
   "outputs": [],
   "source": []
  },
  {
   "cell_type": "code",
   "execution_count": 48,
   "id": "7c9a3906-30c7-4670-b3e5-49532c0de1dd",
   "metadata": {},
   "outputs": [
    {
     "name": "stdout",
     "output_type": "stream",
     "text": [
      "3.3333333333333335\n"
     ]
    },
    {
     "data": {
      "text/plain": [
       "3.3333333333333335"
      ]
     },
     "execution_count": 48,
     "metadata": {},
     "output_type": "execute_result"
    }
   ],
   "source": [
    "minutes = 200\n",
    "hours = minutes / 60\n",
    "print(hours) \n",
    "200/60\n",
    "# This will convert 200 minutes into hours by dividing 60"
   ]
  },
  {
   "cell_type": "code",
   "execution_count": null,
   "id": "70c788c3-53cc-4a78-854f-30e12d60f4ed",
   "metadata": {},
   "outputs": [],
   "source": []
  },
  {
   "cell_type": "code",
   "execution_count": 54,
   "id": "869bb60c-1cdd-4ce0-8a58-66688ad82ae5",
   "metadata": {},
   "outputs": [
    {
     "name": "stdout",
     "output_type": "stream",
     "text": [
      "3\n",
      "20\n"
     ]
    }
   ],
   "source": [
    "minutes = 200\n",
    "hours = minutes // 60\n",
    "remaining_minutes = minutes % 60 # Use floor division to get whole hours and remaining minutes\n",
    "print(hours)\n",
    "print(remaining_minutes)\n"
   ]
  },
  {
   "cell_type": "code",
   "execution_count": null,
   "id": "5a0fdb0a-5884-43d6-b23b-404f8c03484f",
   "metadata": {},
   "outputs": [],
   "source": []
  },
  {
   "cell_type": "markdown",
   "id": "d7461ea5-ee12-4037-9c52-8eeac1fc37e0",
   "metadata": {},
   "source": [
    "## Aurthor"
   ]
  },
  {
   "cell_type": "markdown",
   "id": "087b170d-6800-430b-9ae1-36041a21316d",
   "metadata": {},
   "source": [
    "Daniel Fey"
   ]
  },
  {
   "cell_type": "code",
   "execution_count": null,
   "id": "279ec872-d5c5-4a66-b40d-710ef4dc010a",
   "metadata": {},
   "outputs": [],
   "source": []
  }
 ],
 "metadata": {
  "kernelspec": {
   "display_name": "anaconda-panel-2023.05-py310",
   "language": "python",
   "name": "conda-env-anaconda-panel-2023.05-py310-py"
  },
  "language_info": {
   "codemirror_mode": {
    "name": "ipython",
    "version": 3
   },
   "file_extension": ".py",
   "mimetype": "text/x-python",
   "name": "python",
   "nbconvert_exporter": "python",
   "pygments_lexer": "ipython3",
   "version": "3.11.5"
  }
 },
 "nbformat": 4,
 "nbformat_minor": 5
}
